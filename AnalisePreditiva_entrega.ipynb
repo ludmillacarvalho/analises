{
  "cells": [
    {
      "cell_type": "markdown",
      "metadata": {
        "id": "HpFbn_hJ7kRf"
      },
      "source": [
        "## Importando Bibliotecas\n",
        "\n",
        "---\n",
        "\n",
        "\n",
        "\n",
        "Pandas e NumPy: Utilizados para manipulação e análise de dados.\n",
        "\n",
        "Scikit-learn: Biblioteca de aprendizado de máquina usada para dividir os dados, criar modelos (RandomForestClassifier e LogisticRegression), e avaliar os modelos (accuracy_score, classification_report, confusion_matrix).\n",
        "\n",
        "Matplotlib e Seaborn: Utilizados para visualização de dados.\n",
        "\n",
        "Joblib: Utilizado para salvar o modelo treinado.\n",
        "\n",
        "\n",
        "\n"
      ]
    },
    {
      "cell_type": "code",
      "execution_count": 1,
      "metadata": {
        "id": "Lpm90v06yMWE"
      },
      "outputs": [],
      "source": [
        "# Importar bibliotecas\n",
        "import pandas as pd\n",
        "import numpy as np\n",
        "from sklearn.model_selection import train_test_split\n",
        "from sklearn.ensemble import RandomForestClassifier\n",
        "from sklearn.metrics import accuracy_score, classification_report, confusion_matrix\n",
        "from sklearn.preprocessing import LabelEncoder, StandardScaler\n",
        "import matplotlib.pyplot as plt\n",
        "import seaborn as sns\n",
        "import joblib as jl"
      ]
    },
    {
      "cell_type": "markdown",
      "metadata": {
        "id": "XGVCKncj7oMS"
      },
      "source": [
        "## Importando Datasets\n",
        "\n",
        "---\n",
        "\n"
      ]
    },
    {
      "cell_type": "code",
      "execution_count": 2,
      "metadata": {
        "id": "U5UeE9abycPG"
      },
      "outputs": [],
      "source": [
        "# Importar Datasets\n",
        "viagem_2019 = pd.read_csv('/content/viagem_2019.csv', sep=\";\")\n",
        "viagem_2020 = pd.read_csv('/content/viagem_2020.csv', sep=\";\")\n",
        "viagem_2021 = pd.read_csv('/content/viagem_2021.csv', sep=\";\")\n",
        "viagem_2022 = pd.read_csv('/content/viagem_2022.csv', sep=\";\")"
      ]
    },
    {
      "cell_type": "code",
      "execution_count": 3,
      "metadata": {
        "id": "TBhB1XSGye_H"
      },
      "outputs": [],
      "source": [
        "# Concatenar Datasets\n",
        "viagens_servico = pd.concat([viagem_2019, viagem_2020, viagem_2021, viagem_2022])"
      ]
    },
    {
      "cell_type": "markdown",
      "metadata": {
        "id": "gAAowSEJ78kq"
      },
      "source": [
        "## Análise Descritiva\n",
        "\n",
        "---\n",
        "\n",
        "\n",
        "\n",
        "A análise descritiva dos dados de viagens a serviço revelou insights significativos sobre os padrões observados. Iniciamos pela exploração da estrutura do dataset, examinando e corrigindo valores nulos. Identificamos que destinos como São Paulo, Rio de Janeiro, Porto Alegre e Salvador se destacam como os mais frequentes em viagens corporativas pelo Brasil. Além disso, analisamos detalhadamente as viagens classificadas como urgentes e os cargos que mais frequentemente realizam essas viagens.\n",
        "\n",
        "Neste conjunto de dados:\n",
        "\n",
        "•\tVisualização do DataFrame: Exibimos as primeiras linhas do dataset para compreender sua estrutura e os tipos de dados presentes.\n",
        "\n",
        "•\tTratamento de Valores Nulos: Realizamos a identificação e o tratamento de valores ausentes, removendo registros incompletos para assegurar a integridade dos dados analisados.\n",
        "\n",
        "\n",
        "•\tInformações do DataFrame: Apresentamos uma visão geral das colunas, seus tipos de dados e a quantidade total de registros, fornecendo insights sobre a composição do dataset e facilitando análises subsequentes.\n",
        "\n",
        "\n"
      ]
    },
    {
      "cell_type": "code",
      "execution_count": 15,
      "metadata": {
        "colab": {
          "base_uri": "https://localhost:8080/",
          "height": 929
        },
        "id": "iFHizTRpzgv3",
        "outputId": "8a59e7fa-64f2-4798-e018-6029b2e3ef17"
      },
      "outputs": [
        {
          "data": {
            "application/vnd.google.colaboratory.intrinsic+json": {
              "type": "dataframe",
              "variable_name": "viagens_servico"
            },
            "text/html": [
              "\n",
              "  <div id=\"df-f6e07471-9125-4e4a-9a14-dfe4ed4c1757\" class=\"colab-df-container\">\n",
              "    <div>\n",
              "<style scoped>\n",
              "    .dataframe tbody tr th:only-of-type {\n",
              "        vertical-align: middle;\n",
              "    }\n",
              "\n",
              "    .dataframe tbody tr th {\n",
              "        vertical-align: top;\n",
              "    }\n",
              "\n",
              "    .dataframe thead th {\n",
              "        text-align: right;\n",
              "    }\n",
              "</style>\n",
              "<table border=\"1\" class=\"dataframe\">\n",
              "  <thead>\n",
              "    <tr style=\"text-align: right;\">\n",
              "      <th></th>\n",
              "      <th>Identificador do processo de viagem</th>\n",
              "      <th>Número da Proposta (PCDP)</th>\n",
              "      <th>Situação</th>\n",
              "      <th>Viagem Urgente</th>\n",
              "      <th>Justificativa Urgência Viagem</th>\n",
              "      <th>Código do órgão superior</th>\n",
              "      <th>Nome do órgão superior</th>\n",
              "      <th>Código órgão solicitante</th>\n",
              "      <th>Nome órgão solicitante</th>\n",
              "      <th>CPF viajante</th>\n",
              "      <th>...</th>\n",
              "      <th>Função</th>\n",
              "      <th>Descrição Função</th>\n",
              "      <th>Período - Data de início</th>\n",
              "      <th>Período - Data de fim</th>\n",
              "      <th>Destinos</th>\n",
              "      <th>Motivo</th>\n",
              "      <th>Valor diárias</th>\n",
              "      <th>Valor passagens</th>\n",
              "      <th>Valor devolução</th>\n",
              "      <th>Valor outros gastos</th>\n",
              "    </tr>\n",
              "  </thead>\n",
              "  <tbody>\n",
              "    <tr>\n",
              "      <th>2</th>\n",
              "      <td>15114708</td>\n",
              "      <td>Sem informaçã</td>\n",
              "      <td>Realizada</td>\n",
              "      <td>NÃO</td>\n",
              "      <td>Sem informação</td>\n",
              "      <td>-1.0</td>\n",
              "      <td>Sem informação</td>\n",
              "      <td>-1.0</td>\n",
              "      <td>Sem informação</td>\n",
              "      <td>***.325.718-**</td>\n",
              "      <td>...</td>\n",
              "      <td>-1</td>\n",
              "      <td>Sem informação</td>\n",
              "      <td>01/02/2019</td>\n",
              "      <td>01/02/2019</td>\n",
              "      <td>São Paulo/SP</td>\n",
              "      <td>Capacitação no exterior - PDSE</td>\n",
              "      <td>0</td>\n",
              "      <td>2760,02</td>\n",
              "      <td>0</td>\n",
              "      <td>0</td>\n",
              "    </tr>\n",
              "    <tr>\n",
              "      <th>3</th>\n",
              "      <td>15163874</td>\n",
              "      <td>Sem informaçã</td>\n",
              "      <td>Realizada</td>\n",
              "      <td>NÃO</td>\n",
              "      <td>Sem informação</td>\n",
              "      <td>-1.0</td>\n",
              "      <td>Sem informação</td>\n",
              "      <td>-1.0</td>\n",
              "      <td>Sem informação</td>\n",
              "      <td>***.003.005-**</td>\n",
              "      <td>...</td>\n",
              "      <td>-1</td>\n",
              "      <td>Sem informação</td>\n",
              "      <td>17/02/2019</td>\n",
              "      <td>18/02/2019</td>\n",
              "      <td>Salvador/BA</td>\n",
              "      <td>Programa de Professor Visitante no Exterior - ...</td>\n",
              "      <td>0</td>\n",
              "      <td>2875,92</td>\n",
              "      <td>0</td>\n",
              "      <td>0</td>\n",
              "    </tr>\n",
              "    <tr>\n",
              "      <th>4</th>\n",
              "      <td>15166192</td>\n",
              "      <td>Sem informaçã</td>\n",
              "      <td>Realizada</td>\n",
              "      <td>NÃO</td>\n",
              "      <td>Sem informação</td>\n",
              "      <td>-1.0</td>\n",
              "      <td>Sem informação</td>\n",
              "      <td>-1.0</td>\n",
              "      <td>Sem informação</td>\n",
              "      <td>***.660.311-**</td>\n",
              "      <td>...</td>\n",
              "      <td>-1</td>\n",
              "      <td>Sem informação</td>\n",
              "      <td>20/02/2019</td>\n",
              "      <td>21/02/2019</td>\n",
              "      <td>Rio de Janeiro/RJ</td>\n",
              "      <td>Capacitação no exterior - PDSE.</td>\n",
              "      <td>0</td>\n",
              "      <td>2420,48</td>\n",
              "      <td>0</td>\n",
              "      <td>0</td>\n",
              "    </tr>\n",
              "    <tr>\n",
              "      <th>5</th>\n",
              "      <td>15188479</td>\n",
              "      <td>Sem informaçã</td>\n",
              "      <td>Realizada</td>\n",
              "      <td>NÃO</td>\n",
              "      <td>Sem informação</td>\n",
              "      <td>-1.0</td>\n",
              "      <td>Sem informação</td>\n",
              "      <td>-1.0</td>\n",
              "      <td>Sem informação</td>\n",
              "      <td>***.655.130-**</td>\n",
              "      <td>...</td>\n",
              "      <td>-1</td>\n",
              "      <td>Sem informação</td>\n",
              "      <td>06/03/2019</td>\n",
              "      <td>07/03/2019</td>\n",
              "      <td>Porto Alegre/RS</td>\n",
              "      <td>Capacitação PDSE (Programa de Doutorado Sanduí...</td>\n",
              "      <td>0</td>\n",
              "      <td>1262,5</td>\n",
              "      <td>0</td>\n",
              "      <td>0</td>\n",
              "    </tr>\n",
              "    <tr>\n",
              "      <th>6</th>\n",
              "      <td>15214826</td>\n",
              "      <td>Sem informaçã</td>\n",
              "      <td>Realizada</td>\n",
              "      <td>NÃO</td>\n",
              "      <td>Sem informação</td>\n",
              "      <td>-1.0</td>\n",
              "      <td>Sem informação</td>\n",
              "      <td>-1.0</td>\n",
              "      <td>Sem informação</td>\n",
              "      <td>***.000.460-**</td>\n",
              "      <td>...</td>\n",
              "      <td>-1</td>\n",
              "      <td>Sem informação</td>\n",
              "      <td>15/02/2019</td>\n",
              "      <td>16/02/2019</td>\n",
              "      <td>Porto Alegre/RS</td>\n",
              "      <td>Retorno de bolsista do exterior. PVEX (Program...</td>\n",
              "      <td>0</td>\n",
              "      <td>2694,58</td>\n",
              "      <td>0</td>\n",
              "      <td>0</td>\n",
              "    </tr>\n",
              "    <tr>\n",
              "      <th>...</th>\n",
              "      <td>...</td>\n",
              "      <td>...</td>\n",
              "      <td>...</td>\n",
              "      <td>...</td>\n",
              "      <td>...</td>\n",
              "      <td>...</td>\n",
              "      <td>...</td>\n",
              "      <td>...</td>\n",
              "      <td>...</td>\n",
              "      <td>...</td>\n",
              "      <td>...</td>\n",
              "      <td>...</td>\n",
              "      <td>...</td>\n",
              "      <td>...</td>\n",
              "      <td>...</td>\n",
              "      <td>...</td>\n",
              "      <td>...</td>\n",
              "      <td>...</td>\n",
              "      <td>...</td>\n",
              "      <td>...</td>\n",
              "      <td>...</td>\n",
              "    </tr>\n",
              "    <tr>\n",
              "      <th>56244</th>\n",
              "      <td>17888307</td>\n",
              "      <td>003671/22</td>\n",
              "      <td>Realizada</td>\n",
              "      <td>SIM</td>\n",
              "      <td>Devido a indisponibilidade na agenda do servid...</td>\n",
              "      <td>-1.0</td>\n",
              "      <td>Sem informação</td>\n",
              "      <td>-1.0</td>\n",
              "      <td>Sem informação</td>\n",
              "      <td>***.394.068-**</td>\n",
              "      <td>...</td>\n",
              "      <td>FPE-1012</td>\n",
              "      <td>FPE-1012</td>\n",
              "      <td>14/03/2022</td>\n",
              "      <td>18/03/2022</td>\n",
              "      <td>Juiz de Fora/MG, Rio de Janeiro/RJ</td>\n",
              "      <td>Motivo da viagem: Manutenção das atividades no...</td>\n",
              "      <td>952,6</td>\n",
              "      <td>2065,9</td>\n",
              "      <td>0</td>\n",
              "      <td>0</td>\n",
              "    </tr>\n",
              "    <tr>\n",
              "      <th>56246</th>\n",
              "      <td>17888309</td>\n",
              "      <td>002947/22-1C</td>\n",
              "      <td>Realizada</td>\n",
              "      <td>SIM</td>\n",
              "      <td>Devido a alta demanda desta superintendência e...</td>\n",
              "      <td>-1.0</td>\n",
              "      <td>Sem informação</td>\n",
              "      <td>-1.0</td>\n",
              "      <td>Sem informação</td>\n",
              "      <td>***.046.635-**</td>\n",
              "      <td>...</td>\n",
              "      <td>-1</td>\n",
              "      <td>Sem informação</td>\n",
              "      <td>13/03/2022</td>\n",
              "      <td>25/03/2022</td>\n",
              "      <td>Canela/RS</td>\n",
              "      <td>Participar do Encontro de Planejamento e Gestã...</td>\n",
              "      <td>2099,3</td>\n",
              "      <td>3094,07</td>\n",
              "      <td>0</td>\n",
              "      <td>330,2</td>\n",
              "    </tr>\n",
              "    <tr>\n",
              "      <th>56247</th>\n",
              "      <td>17888310</td>\n",
              "      <td>Informações p</td>\n",
              "      <td>Realizada</td>\n",
              "      <td>NÃO</td>\n",
              "      <td>Informação protegida por sigilo nos termos da ...</td>\n",
              "      <td>-1.0</td>\n",
              "      <td>Sem informação</td>\n",
              "      <td>-1.0</td>\n",
              "      <td>Sem informação</td>\n",
              "      <td>ID003700114</td>\n",
              "      <td>...</td>\n",
              "      <td>-11</td>\n",
              "      <td>Informações protegidas por sigilo</td>\n",
              "      <td>08/03/2022</td>\n",
              "      <td>08/03/2022</td>\n",
              "      <td>Informações protegidas por sigilo</td>\n",
              "      <td>Informação protegida por sigilo nos termos da ...</td>\n",
              "      <td>67,68</td>\n",
              "      <td>0</td>\n",
              "      <td>0</td>\n",
              "      <td>0</td>\n",
              "    </tr>\n",
              "    <tr>\n",
              "      <th>56248</th>\n",
              "      <td>17888311</td>\n",
              "      <td>Informações p</td>\n",
              "      <td>Não realizada</td>\n",
              "      <td>NÃO</td>\n",
              "      <td>Informação protegida por sigilo nos termos da ...</td>\n",
              "      <td>-1.0</td>\n",
              "      <td>Sem informação</td>\n",
              "      <td>-1.0</td>\n",
              "      <td>Sem informação</td>\n",
              "      <td>ID009800292</td>\n",
              "      <td>...</td>\n",
              "      <td>-11</td>\n",
              "      <td>Informações protegidas por sigilo</td>\n",
              "      <td>08/03/2022</td>\n",
              "      <td>08/03/2022</td>\n",
              "      <td>Informações protegidas por sigilo</td>\n",
              "      <td>Informação protegida por sigilo nos termos da ...</td>\n",
              "      <td>67,68</td>\n",
              "      <td>0</td>\n",
              "      <td>67,68</td>\n",
              "      <td>0</td>\n",
              "    </tr>\n",
              "    <tr>\n",
              "      <th>56250</th>\n",
              "      <td>17888314</td>\n",
              "      <td>005130/22</td>\n",
              "      <td>Realizada</td>\n",
              "      <td>SIM</td>\n",
              "      <td>Força tarefa</td>\n",
              "      <td>-1.0</td>\n",
              "      <td>Sem informação</td>\n",
              "      <td>-1.0</td>\n",
              "      <td>Sem informação</td>\n",
              "      <td>***.231.701-**</td>\n",
              "      <td>...</td>\n",
              "      <td>FPE-1012</td>\n",
              "      <td>FPE-1012</td>\n",
              "      <td>08/03/2022</td>\n",
              "      <td>12/03/2022</td>\n",
              "      <td>Mirassol/SP</td>\n",
              "      <td>Realizar a fiscalização em estabelecimentos co...</td>\n",
              "      <td>713,22</td>\n",
              "      <td>0</td>\n",
              "      <td>0</td>\n",
              "      <td>0</td>\n",
              "    </tr>\n",
              "  </tbody>\n",
              "</table>\n",
              "<p>159484 rows × 22 columns</p>\n",
              "</div>\n",
              "    <div class=\"colab-df-buttons\">\n",
              "\n",
              "  <div class=\"colab-df-container\">\n",
              "    <button class=\"colab-df-convert\" onclick=\"convertToInteractive('df-f6e07471-9125-4e4a-9a14-dfe4ed4c1757')\"\n",
              "            title=\"Convert this dataframe to an interactive table.\"\n",
              "            style=\"display:none;\">\n",
              "\n",
              "  <svg xmlns=\"http://www.w3.org/2000/svg\" height=\"24px\" viewBox=\"0 -960 960 960\">\n",
              "    <path d=\"M120-120v-720h720v720H120Zm60-500h600v-160H180v160Zm220 220h160v-160H400v160Zm0 220h160v-160H400v160ZM180-400h160v-160H180v160Zm440 0h160v-160H620v160ZM180-180h160v-160H180v160Zm440 0h160v-160H620v160Z\"/>\n",
              "  </svg>\n",
              "    </button>\n",
              "\n",
              "  <style>\n",
              "    .colab-df-container {\n",
              "      display:flex;\n",
              "      gap: 12px;\n",
              "    }\n",
              "\n",
              "    .colab-df-convert {\n",
              "      background-color: #E8F0FE;\n",
              "      border: none;\n",
              "      border-radius: 50%;\n",
              "      cursor: pointer;\n",
              "      display: none;\n",
              "      fill: #1967D2;\n",
              "      height: 32px;\n",
              "      padding: 0 0 0 0;\n",
              "      width: 32px;\n",
              "    }\n",
              "\n",
              "    .colab-df-convert:hover {\n",
              "      background-color: #E2EBFA;\n",
              "      box-shadow: 0px 1px 2px rgba(60, 64, 67, 0.3), 0px 1px 3px 1px rgba(60, 64, 67, 0.15);\n",
              "      fill: #174EA6;\n",
              "    }\n",
              "\n",
              "    .colab-df-buttons div {\n",
              "      margin-bottom: 4px;\n",
              "    }\n",
              "\n",
              "    [theme=dark] .colab-df-convert {\n",
              "      background-color: #3B4455;\n",
              "      fill: #D2E3FC;\n",
              "    }\n",
              "\n",
              "    [theme=dark] .colab-df-convert:hover {\n",
              "      background-color: #434B5C;\n",
              "      box-shadow: 0px 1px 3px 1px rgba(0, 0, 0, 0.15);\n",
              "      filter: drop-shadow(0px 1px 2px rgba(0, 0, 0, 0.3));\n",
              "      fill: #FFFFFF;\n",
              "    }\n",
              "  </style>\n",
              "\n",
              "    <script>\n",
              "      const buttonEl =\n",
              "        document.querySelector('#df-f6e07471-9125-4e4a-9a14-dfe4ed4c1757 button.colab-df-convert');\n",
              "      buttonEl.style.display =\n",
              "        google.colab.kernel.accessAllowed ? 'block' : 'none';\n",
              "\n",
              "      async function convertToInteractive(key) {\n",
              "        const element = document.querySelector('#df-f6e07471-9125-4e4a-9a14-dfe4ed4c1757');\n",
              "        const dataTable =\n",
              "          await google.colab.kernel.invokeFunction('convertToInteractive',\n",
              "                                                    [key], {});\n",
              "        if (!dataTable) return;\n",
              "\n",
              "        const docLinkHtml = 'Like what you see? Visit the ' +\n",
              "          '<a target=\"_blank\" href=https://colab.research.google.com/notebooks/data_table.ipynb>data table notebook</a>'\n",
              "          + ' to learn more about interactive tables.';\n",
              "        element.innerHTML = '';\n",
              "        dataTable['output_type'] = 'display_data';\n",
              "        await google.colab.output.renderOutput(dataTable, element);\n",
              "        const docLink = document.createElement('div');\n",
              "        docLink.innerHTML = docLinkHtml;\n",
              "        element.appendChild(docLink);\n",
              "      }\n",
              "    </script>\n",
              "  </div>\n",
              "\n",
              "\n",
              "<div id=\"df-2397b623-4481-4f7a-8299-38fda387c611\">\n",
              "  <button class=\"colab-df-quickchart\" onclick=\"quickchart('df-2397b623-4481-4f7a-8299-38fda387c611')\"\n",
              "            title=\"Suggest charts\"\n",
              "            style=\"display:none;\">\n",
              "\n",
              "<svg xmlns=\"http://www.w3.org/2000/svg\" height=\"24px\"viewBox=\"0 0 24 24\"\n",
              "     width=\"24px\">\n",
              "    <g>\n",
              "        <path d=\"M19 3H5c-1.1 0-2 .9-2 2v14c0 1.1.9 2 2 2h14c1.1 0 2-.9 2-2V5c0-1.1-.9-2-2-2zM9 17H7v-7h2v7zm4 0h-2V7h2v10zm4 0h-2v-4h2v4z\"/>\n",
              "    </g>\n",
              "</svg>\n",
              "  </button>\n",
              "\n",
              "<style>\n",
              "  .colab-df-quickchart {\n",
              "      --bg-color: #E8F0FE;\n",
              "      --fill-color: #1967D2;\n",
              "      --hover-bg-color: #E2EBFA;\n",
              "      --hover-fill-color: #174EA6;\n",
              "      --disabled-fill-color: #AAA;\n",
              "      --disabled-bg-color: #DDD;\n",
              "  }\n",
              "\n",
              "  [theme=dark] .colab-df-quickchart {\n",
              "      --bg-color: #3B4455;\n",
              "      --fill-color: #D2E3FC;\n",
              "      --hover-bg-color: #434B5C;\n",
              "      --hover-fill-color: #FFFFFF;\n",
              "      --disabled-bg-color: #3B4455;\n",
              "      --disabled-fill-color: #666;\n",
              "  }\n",
              "\n",
              "  .colab-df-quickchart {\n",
              "    background-color: var(--bg-color);\n",
              "    border: none;\n",
              "    border-radius: 50%;\n",
              "    cursor: pointer;\n",
              "    display: none;\n",
              "    fill: var(--fill-color);\n",
              "    height: 32px;\n",
              "    padding: 0;\n",
              "    width: 32px;\n",
              "  }\n",
              "\n",
              "  .colab-df-quickchart:hover {\n",
              "    background-color: var(--hover-bg-color);\n",
              "    box-shadow: 0 1px 2px rgba(60, 64, 67, 0.3), 0 1px 3px 1px rgba(60, 64, 67, 0.15);\n",
              "    fill: var(--button-hover-fill-color);\n",
              "  }\n",
              "\n",
              "  .colab-df-quickchart-complete:disabled,\n",
              "  .colab-df-quickchart-complete:disabled:hover {\n",
              "    background-color: var(--disabled-bg-color);\n",
              "    fill: var(--disabled-fill-color);\n",
              "    box-shadow: none;\n",
              "  }\n",
              "\n",
              "  .colab-df-spinner {\n",
              "    border: 2px solid var(--fill-color);\n",
              "    border-color: transparent;\n",
              "    border-bottom-color: var(--fill-color);\n",
              "    animation:\n",
              "      spin 1s steps(1) infinite;\n",
              "  }\n",
              "\n",
              "  @keyframes spin {\n",
              "    0% {\n",
              "      border-color: transparent;\n",
              "      border-bottom-color: var(--fill-color);\n",
              "      border-left-color: var(--fill-color);\n",
              "    }\n",
              "    20% {\n",
              "      border-color: transparent;\n",
              "      border-left-color: var(--fill-color);\n",
              "      border-top-color: var(--fill-color);\n",
              "    }\n",
              "    30% {\n",
              "      border-color: transparent;\n",
              "      border-left-color: var(--fill-color);\n",
              "      border-top-color: var(--fill-color);\n",
              "      border-right-color: var(--fill-color);\n",
              "    }\n",
              "    40% {\n",
              "      border-color: transparent;\n",
              "      border-right-color: var(--fill-color);\n",
              "      border-top-color: var(--fill-color);\n",
              "    }\n",
              "    60% {\n",
              "      border-color: transparent;\n",
              "      border-right-color: var(--fill-color);\n",
              "    }\n",
              "    80% {\n",
              "      border-color: transparent;\n",
              "      border-right-color: var(--fill-color);\n",
              "      border-bottom-color: var(--fill-color);\n",
              "    }\n",
              "    90% {\n",
              "      border-color: transparent;\n",
              "      border-bottom-color: var(--fill-color);\n",
              "    }\n",
              "  }\n",
              "</style>\n",
              "\n",
              "  <script>\n",
              "    async function quickchart(key) {\n",
              "      const quickchartButtonEl =\n",
              "        document.querySelector('#' + key + ' button');\n",
              "      quickchartButtonEl.disabled = true;  // To prevent multiple clicks.\n",
              "      quickchartButtonEl.classList.add('colab-df-spinner');\n",
              "      try {\n",
              "        const charts = await google.colab.kernel.invokeFunction(\n",
              "            'suggestCharts', [key], {});\n",
              "      } catch (error) {\n",
              "        console.error('Error during call to suggestCharts:', error);\n",
              "      }\n",
              "      quickchartButtonEl.classList.remove('colab-df-spinner');\n",
              "      quickchartButtonEl.classList.add('colab-df-quickchart-complete');\n",
              "    }\n",
              "    (() => {\n",
              "      let quickchartButtonEl =\n",
              "        document.querySelector('#df-2397b623-4481-4f7a-8299-38fda387c611 button');\n",
              "      quickchartButtonEl.style.display =\n",
              "        google.colab.kernel.accessAllowed ? 'block' : 'none';\n",
              "    })();\n",
              "  </script>\n",
              "</div>\n",
              "\n",
              "  <div id=\"id_fb4ff1ee-4db1-41f4-9209-943c397aa70a\">\n",
              "    <style>\n",
              "      .colab-df-generate {\n",
              "        background-color: #E8F0FE;\n",
              "        border: none;\n",
              "        border-radius: 50%;\n",
              "        cursor: pointer;\n",
              "        display: none;\n",
              "        fill: #1967D2;\n",
              "        height: 32px;\n",
              "        padding: 0 0 0 0;\n",
              "        width: 32px;\n",
              "      }\n",
              "\n",
              "      .colab-df-generate:hover {\n",
              "        background-color: #E2EBFA;\n",
              "        box-shadow: 0px 1px 2px rgba(60, 64, 67, 0.3), 0px 1px 3px 1px rgba(60, 64, 67, 0.15);\n",
              "        fill: #174EA6;\n",
              "      }\n",
              "\n",
              "      [theme=dark] .colab-df-generate {\n",
              "        background-color: #3B4455;\n",
              "        fill: #D2E3FC;\n",
              "      }\n",
              "\n",
              "      [theme=dark] .colab-df-generate:hover {\n",
              "        background-color: #434B5C;\n",
              "        box-shadow: 0px 1px 3px 1px rgba(0, 0, 0, 0.15);\n",
              "        filter: drop-shadow(0px 1px 2px rgba(0, 0, 0, 0.3));\n",
              "        fill: #FFFFFF;\n",
              "      }\n",
              "    </style>\n",
              "    <button class=\"colab-df-generate\" onclick=\"generateWithVariable('viagens_servico')\"\n",
              "            title=\"Generate code using this dataframe.\"\n",
              "            style=\"display:none;\">\n",
              "\n",
              "  <svg xmlns=\"http://www.w3.org/2000/svg\" height=\"24px\"viewBox=\"0 0 24 24\"\n",
              "       width=\"24px\">\n",
              "    <path d=\"M7,19H8.4L18.45,9,17,7.55,7,17.6ZM5,21V16.75L18.45,3.32a2,2,0,0,1,2.83,0l1.4,1.43a1.91,1.91,0,0,1,.58,1.4,1.91,1.91,0,0,1-.58,1.4L9.25,21ZM18.45,9,17,7.55Zm-12,3A5.31,5.31,0,0,0,4.9,8.1,5.31,5.31,0,0,0,1,6.5,5.31,5.31,0,0,0,4.9,4.9,5.31,5.31,0,0,0,6.5,1,5.31,5.31,0,0,0,8.1,4.9,5.31,5.31,0,0,0,12,6.5,5.46,5.46,0,0,0,6.5,12Z\"/>\n",
              "  </svg>\n",
              "    </button>\n",
              "    <script>\n",
              "      (() => {\n",
              "      const buttonEl =\n",
              "        document.querySelector('#id_fb4ff1ee-4db1-41f4-9209-943c397aa70a button.colab-df-generate');\n",
              "      buttonEl.style.display =\n",
              "        google.colab.kernel.accessAllowed ? 'block' : 'none';\n",
              "\n",
              "      buttonEl.onclick = () => {\n",
              "        google.colab.notebook.generateWithVariable('viagens_servico');\n",
              "      }\n",
              "      })();\n",
              "    </script>\n",
              "  </div>\n",
              "\n",
              "    </div>\n",
              "  </div>\n"
            ],
            "text/plain": [
              "       Identificador do processo de viagem Número da Proposta (PCDP)  \\\n",
              "2                                 15114708             Sem informaçã   \n",
              "3                                 15163874             Sem informaçã   \n",
              "4                                 15166192             Sem informaçã   \n",
              "5                                 15188479             Sem informaçã   \n",
              "6                                 15214826             Sem informaçã   \n",
              "...                                    ...                       ...   \n",
              "56244                             17888307                 003671/22   \n",
              "56246                             17888309              002947/22-1C   \n",
              "56247                             17888310             Informações p   \n",
              "56248                             17888311             Informações p   \n",
              "56250                             17888314                 005130/22   \n",
              "\n",
              "            Situação Viagem Urgente  \\\n",
              "2          Realizada            NÃO   \n",
              "3          Realizada            NÃO   \n",
              "4          Realizada            NÃO   \n",
              "5          Realizada            NÃO   \n",
              "6          Realizada            NÃO   \n",
              "...              ...            ...   \n",
              "56244      Realizada            SIM   \n",
              "56246      Realizada            SIM   \n",
              "56247      Realizada            NÃO   \n",
              "56248  Não realizada            NÃO   \n",
              "56250      Realizada            SIM   \n",
              "\n",
              "                           Justificativa Urgência Viagem  \\\n",
              "2                                         Sem informação   \n",
              "3                                         Sem informação   \n",
              "4                                         Sem informação   \n",
              "5                                         Sem informação   \n",
              "6                                         Sem informação   \n",
              "...                                                  ...   \n",
              "56244  Devido a indisponibilidade na agenda do servid...   \n",
              "56246  Devido a alta demanda desta superintendência e...   \n",
              "56247  Informação protegida por sigilo nos termos da ...   \n",
              "56248  Informação protegida por sigilo nos termos da ...   \n",
              "56250                                       Força tarefa   \n",
              "\n",
              "       Código do órgão superior Nome do órgão superior  \\\n",
              "2                          -1.0         Sem informação   \n",
              "3                          -1.0         Sem informação   \n",
              "4                          -1.0         Sem informação   \n",
              "5                          -1.0         Sem informação   \n",
              "6                          -1.0         Sem informação   \n",
              "...                         ...                    ...   \n",
              "56244                      -1.0         Sem informação   \n",
              "56246                      -1.0         Sem informação   \n",
              "56247                      -1.0         Sem informação   \n",
              "56248                      -1.0         Sem informação   \n",
              "56250                      -1.0         Sem informação   \n",
              "\n",
              "       Código órgão solicitante Nome órgão solicitante    CPF viajante  ...  \\\n",
              "2                          -1.0         Sem informação  ***.325.718-**  ...   \n",
              "3                          -1.0         Sem informação  ***.003.005-**  ...   \n",
              "4                          -1.0         Sem informação  ***.660.311-**  ...   \n",
              "5                          -1.0         Sem informação  ***.655.130-**  ...   \n",
              "6                          -1.0         Sem informação  ***.000.460-**  ...   \n",
              "...                         ...                    ...             ...  ...   \n",
              "56244                      -1.0         Sem informação  ***.394.068-**  ...   \n",
              "56246                      -1.0         Sem informação  ***.046.635-**  ...   \n",
              "56247                      -1.0         Sem informação     ID003700114  ...   \n",
              "56248                      -1.0         Sem informação     ID009800292  ...   \n",
              "56250                      -1.0         Sem informação  ***.231.701-**  ...   \n",
              "\n",
              "         Função                   Descrição Função Período - Data de início  \\\n",
              "2            -1                     Sem informação               01/02/2019   \n",
              "3            -1                     Sem informação               17/02/2019   \n",
              "4            -1                     Sem informação               20/02/2019   \n",
              "5            -1                     Sem informação               06/03/2019   \n",
              "6            -1                     Sem informação               15/02/2019   \n",
              "...         ...                                ...                      ...   \n",
              "56244  FPE-1012                           FPE-1012               14/03/2022   \n",
              "56246        -1                     Sem informação               13/03/2022   \n",
              "56247       -11  Informações protegidas por sigilo               08/03/2022   \n",
              "56248       -11  Informações protegidas por sigilo               08/03/2022   \n",
              "56250  FPE-1012                           FPE-1012               08/03/2022   \n",
              "\n",
              "      Período - Data de fim                            Destinos  \\\n",
              "2                01/02/2019                        São Paulo/SP   \n",
              "3                18/02/2019                         Salvador/BA   \n",
              "4                21/02/2019                   Rio de Janeiro/RJ   \n",
              "5                07/03/2019                     Porto Alegre/RS   \n",
              "6                16/02/2019                     Porto Alegre/RS   \n",
              "...                     ...                                 ...   \n",
              "56244            18/03/2022  Juiz de Fora/MG, Rio de Janeiro/RJ   \n",
              "56246            25/03/2022                           Canela/RS   \n",
              "56247            08/03/2022   Informações protegidas por sigilo   \n",
              "56248            08/03/2022   Informações protegidas por sigilo   \n",
              "56250            12/03/2022                         Mirassol/SP   \n",
              "\n",
              "                                                  Motivo Valor diárias  \\\n",
              "2                         Capacitação no exterior - PDSE             0   \n",
              "3      Programa de Professor Visitante no Exterior - ...             0   \n",
              "4                        Capacitação no exterior - PDSE.             0   \n",
              "5      Capacitação PDSE (Programa de Doutorado Sanduí...             0   \n",
              "6      Retorno de bolsista do exterior. PVEX (Program...             0   \n",
              "...                                                  ...           ...   \n",
              "56244  Motivo da viagem: Manutenção das atividades no...         952,6   \n",
              "56246  Participar do Encontro de Planejamento e Gestã...        2099,3   \n",
              "56247  Informação protegida por sigilo nos termos da ...         67,68   \n",
              "56248  Informação protegida por sigilo nos termos da ...         67,68   \n",
              "56250  Realizar a fiscalização em estabelecimentos co...        713,22   \n",
              "\n",
              "      Valor passagens Valor devolução Valor outros gastos  \n",
              "2             2760,02               0                   0  \n",
              "3             2875,92               0                   0  \n",
              "4             2420,48               0                   0  \n",
              "5              1262,5               0                   0  \n",
              "6             2694,58               0                   0  \n",
              "...               ...             ...                 ...  \n",
              "56244          2065,9               0                   0  \n",
              "56246         3094,07               0               330,2  \n",
              "56247               0               0                   0  \n",
              "56248               0           67,68                   0  \n",
              "56250               0               0                   0  \n",
              "\n",
              "[159484 rows x 22 columns]"
            ]
          },
          "execution_count": 15,
          "metadata": {},
          "output_type": "execute_result"
        }
      ],
      "source": [
        "viagens_servico"
      ]
    },
    {
      "cell_type": "code",
      "execution_count": 4,
      "metadata": {
        "colab": {
          "base_uri": "https://localhost:8080/"
        },
        "id": "37u9-daLyhHD",
        "outputId": "92ebceb1-e698-4a4c-e734-a967333aa9b1"
      },
      "outputs": [
        {
          "name": "stdout",
          "output_type": "stream",
          "text": [
            "Identificador do processo de viagem        0\n",
            "Número da Proposta (PCDP)                  0\n",
            "Situação                                   0\n",
            "Viagem Urgente                             0\n",
            "Justificativa Urgência Viagem              5\n",
            "Código do órgão superior                   1\n",
            "Nome do órgão superior                     1\n",
            "Código órgão solicitante                   1\n",
            "Nome órgão solicitante                     1\n",
            "CPF viajante                             172\n",
            "Nome                                       1\n",
            "Cargo                                  93731\n",
            "Função                                     1\n",
            "Descrição Função                          15\n",
            "Período - Data de início                   2\n",
            "Período - Data de fim                      2\n",
            "Destinos                                   2\n",
            "Motivo                                     2\n",
            "Valor diárias                              2\n",
            "Valor passagens                            3\n",
            "Valor devolução                            3\n",
            "Valor outros gastos                        4\n",
            "dtype: int64\n"
          ]
        }
      ],
      "source": [
        "# Visualizar e somar valores Null\n",
        "print(viagens_servico.isnull().sum())"
      ]
    },
    {
      "cell_type": "code",
      "execution_count": 5,
      "metadata": {
        "id": "80at5xOByhLs"
      },
      "outputs": [],
      "source": [
        "# Dropar valores Null\n",
        "viagens_servico.dropna(inplace=True)"
      ]
    },
    {
      "cell_type": "code",
      "execution_count": 6,
      "metadata": {
        "colab": {
          "base_uri": "https://localhost:8080/"
        },
        "id": "kEQpIlsvynsG",
        "outputId": "b326f3b2-fe80-4eb5-9bb9-1ba5e416f556"
      },
      "outputs": [
        {
          "name": "stdout",
          "output_type": "stream",
          "text": [
            "Identificador do processo de viagem    0\n",
            "Número da Proposta (PCDP)              0\n",
            "Situação                               0\n",
            "Viagem Urgente                         0\n",
            "Justificativa Urgência Viagem          0\n",
            "Código do órgão superior               0\n",
            "Nome do órgão superior                 0\n",
            "Código órgão solicitante               0\n",
            "Nome órgão solicitante                 0\n",
            "CPF viajante                           0\n",
            "Nome                                   0\n",
            "Cargo                                  0\n",
            "Função                                 0\n",
            "Descrição Função                       0\n",
            "Período - Data de início               0\n",
            "Período - Data de fim                  0\n",
            "Destinos                               0\n",
            "Motivo                                 0\n",
            "Valor diárias                          0\n",
            "Valor passagens                        0\n",
            "Valor devolução                        0\n",
            "Valor outros gastos                    0\n",
            "dtype: int64\n"
          ]
        }
      ],
      "source": [
        "# Verificar exclusão dos valores Null\n",
        "print(viagens_servico.isnull().sum())"
      ]
    },
    {
      "cell_type": "markdown",
      "metadata": {
        "id": "UxgUhUW47yC8"
      },
      "source": [
        "## Análise Diagnóstica\n",
        "\n",
        "---\n",
        "A análise diagnóstica enriquece a abordagem descritiva ao explorar correlações e interações entre variáveis, oferecendo insights profundos sobre os padrões identificados nos dados de viagens corporativas. Ao investigar os destinos mais frequentes e os cargos com maior incidência de viagens urgentes, pudemos identificar áreas críticas que demandam atenção especial na gestão dessas viagens.\n",
        "\n",
        "Neste conjunto de dados específico:\n",
        "\n",
        "•\tDistribuição das Viagens Urgentes e Não Urgentes: Analisamos a distribuição total entre viagens urgentes e não urgentes, destacando a prevalência das primeiras.\n",
        "•\tTop 5 Cargos com Viagens Urgentes: Identificamos os cinco cargos que mais realizaram viagens urgentes, fornecendo insights sobre os perfis ocupacionais mais afetados pela necessidade de deslocamento imediato.\n",
        "\n",
        "•\tDistribuição de Urgência nos 5 Principais Destinos: Investigamos a distribuição da urgência em relação aos cinco destinos mais frequentemente visitados, permitindo uma compreensão detalhada das demandas específicas de cada localidade.\n",
        "\n",
        "\n",
        "\n",
        "\n",
        "\n",
        "\n",
        "\n"
      ]
    },
    {
      "cell_type": "code",
      "execution_count": 14,
      "metadata": {
        "colab": {
          "base_uri": "https://localhost:8080/"
        },
        "id": "-ZeKJObzyrJZ",
        "outputId": "d029aee2-a098-4d93-c0ab-14c556c88fcf"
      },
      "outputs": [
        {
          "name": "stdout",
          "output_type": "stream",
          "text": [
            "       Identificador do processo de viagem Número da Proposta (PCDP)  \\\n",
            "5                                 16415470                 000002/20   \n",
            "73                                16576819                 000003/20   \n",
            "81                                16587524                 000005/20   \n",
            "96                                16608746                 000017/20   \n",
            "98                                16612011                 000011/20   \n",
            "...                                    ...                       ...   \n",
            "56235                             17888298                 003144/22   \n",
            "56239                             17888302                 002941/22   \n",
            "56244                             17888307                 003671/22   \n",
            "56246                             17888309              002947/22-1C   \n",
            "56250                             17888314                 005130/22   \n",
            "\n",
            "        Situação Viagem Urgente  \\\n",
            "5      Realizada            SIM   \n",
            "73     Realizada            SIM   \n",
            "81     Realizada            SIM   \n",
            "96     Realizada            SIM   \n",
            "98     Realizada            SIM   \n",
            "...          ...            ...   \n",
            "56235  Realizada            SIM   \n",
            "56239  Realizada            SIM   \n",
            "56244  Realizada            SIM   \n",
            "56246  Realizada            SIM   \n",
            "56250  Realizada            SIM   \n",
            "\n",
            "                           Justificativa Urgência Viagem  \\\n",
            "5      o bilhete já foi emitido em 2019 pela voetur. ...   \n",
            "73                                     somente reajustar   \n",
            "81                                     somente reajustar   \n",
            "96     solicitamos pagamento de diárias, uma vez que ...   \n",
            "98                 Data para fechamento da Contabilidade   \n",
            "...                                                  ...   \n",
            "56235                             VIAGEM CONFORME ANEXO.   \n",
            "56239  Viagem urgente para alinhamento das diretrizes...   \n",
            "56244  Devido a indisponibilidade na agenda do servid...   \n",
            "56246  Devido a alta demanda desta superintendência e...   \n",
            "56250                                       Força tarefa   \n",
            "\n",
            "       Código do órgão superior Nome do órgão superior  \\\n",
            "5                          -1.0         Sem informação   \n",
            "73                         -1.0         Sem informação   \n",
            "81                         -1.0         Sem informação   \n",
            "96                         -1.0         Sem informação   \n",
            "98                         -1.0         Sem informação   \n",
            "...                         ...                    ...   \n",
            "56235                      -1.0         Sem informação   \n",
            "56239                      -1.0         Sem informação   \n",
            "56244                      -1.0         Sem informação   \n",
            "56246                      -1.0         Sem informação   \n",
            "56250                      -1.0         Sem informação   \n",
            "\n",
            "       Código órgão solicitante Nome órgão solicitante    CPF viajante  ...  \\\n",
            "5                          -1.0         Sem informação  ***.126.127-**  ...   \n",
            "73                         -1.0         Sem informação  ***.011.471-**  ...   \n",
            "81                         -1.0         Sem informação  ***.867.217-**  ...   \n",
            "96                         -1.0         Sem informação  ***.139.244-**  ...   \n",
            "98                         -1.0         Sem informação  ***.781.205-**  ...   \n",
            "...                         ...                    ...             ...  ...   \n",
            "56235                      -1.0         Sem informação  ***.948.341-**  ...   \n",
            "56239                      -1.0         Sem informação  ***.434.213-**  ...   \n",
            "56244                      -1.0         Sem informação  ***.394.068-**  ...   \n",
            "56246                      -1.0         Sem informação  ***.046.635-**  ...   \n",
            "56250                      -1.0         Sem informação  ***.231.701-**  ...   \n",
            "\n",
            "         Função               Descrição Função Período - Data de início  \\\n",
            "5       CD-0003  Cargo Comissionado de Direção               11/01/2020   \n",
            "73           -1                 Sem informação               16/01/2020   \n",
            "81           -1                 Sem informação               16/01/2020   \n",
            "96           -1                 Sem informação               13/02/2020   \n",
            "98           -1                 Sem informação               13/02/2020   \n",
            "...         ...                            ...                      ...   \n",
            "56235        -1                 Sem informação               07/03/2022   \n",
            "56239  FPE-1011                       FPE-1011               10/03/2022   \n",
            "56244  FPE-1012                       FPE-1012               14/03/2022   \n",
            "56246        -1                 Sem informação               13/03/2022   \n",
            "56250  FPE-1012                       FPE-1012               08/03/2022   \n",
            "\n",
            "      Período - Data de fim                            Destinos  \\\n",
            "5                23/01/2020                     Lisboa/Portugal   \n",
            "73               02/02/2020                        São Paulo/SP   \n",
            "81               02/02/2020                        São Paulo/SP   \n",
            "96               17/02/2020                           Recife/PE   \n",
            "98               14/02/2020                           Recife/PE   \n",
            "...                     ...                                 ...   \n",
            "56235            08/03/2022                            Jataí/GO   \n",
            "56239            10/03/2022                         Brasília/DF   \n",
            "56244            18/03/2022  Juiz de Fora/MG, Rio de Janeiro/RJ   \n",
            "56246            25/03/2022                           Canela/RS   \n",
            "56250            12/03/2022                         Mirassol/SP   \n",
            "\n",
            "                                                  Motivo Valor diárias  \\\n",
            "5      O proposto será palestrante em ciclo de palest...      18549,02   \n",
            "73     Vinda Periódica autorizada pelo desptel 430/19...             0   \n",
            "81     vinda periódica autorizada pelo desptel 430/19...             0   \n",
            "96     participação nas seguintes atividades: dia 14....        988,34   \n",
            "98     Participação como membro externa da banca de d...        371,96   \n",
            "...                                                  ...           ...   \n",
            "56235  Trata-se de verificação/remoção de mercadorias...        197,34   \n",
            "56239  Reunião presencial com os Gerentes de APS para...         91,28   \n",
            "56244  Motivo da viagem: Manutenção das atividades no...         952,6   \n",
            "56246  Participar do Encontro de Planejamento e Gestã...        2099,3   \n",
            "56250  Realizar a fiscalização em estabelecimentos co...        713,22   \n",
            "\n",
            "      Valor passagens Valor devolução Valor outros gastos  \n",
            "5             6903,68               0              167,65  \n",
            "73            5596,71               0                   0  \n",
            "81            5596,71               0                   0  \n",
            "96            1208,98               0                   0  \n",
            "98             433,02               0                   0  \n",
            "...               ...             ...                 ...  \n",
            "56235               0               0                   0  \n",
            "56239               0               0                   0  \n",
            "56244          2065,9               0                   0  \n",
            "56246         3094,07               0               330,2  \n",
            "56250               0               0                   0  \n",
            "\n",
            "[31240 rows x 22 columns]\n"
          ]
        }
      ],
      "source": [
        "# Filtrar viagens onde a urgência é igual a 'sim'\n",
        "viagens_urgentes = viagens_servico[viagens_servico['Viagem Urgente']== 'SIM']"
      ]
    },
    {
      "cell_type": "code",
      "execution_count": 19,
      "metadata": {
        "colab": {
          "base_uri": "https://localhost:8080/",
          "height": 655
        },
        "id": "7ItM4Yii0c6F",
        "outputId": "e2068f94-bc9f-4435-e11e-b596e6711499"
      },
      "outputs": [
        {
          "name": "stderr",
          "output_type": "stream",
          "text": [
            "<ipython-input-19-6ec749526784>:3: FutureWarning: \n",
            "\n",
            "Passing `palette` without assigning `hue` is deprecated and will be removed in v0.14.0. Assign the `x` variable to `hue` and set `legend=False` for the same effect.\n",
            "\n",
            "  sns.countplot(x='Viagem Urgente', data=viagens_servico, palette='viridis')\n"
          ]
        },
        {
          "data": {
            "image/png": "[encoded data removed]",
            "text/plain": [
              "<Figure size 1000x600 with 1 Axes>"
            ]
          },
          "metadata": {},
          "output_type": "display_data"
        }
      ],
      "source": [
        "# Gráfico 1: Distribuição das viagens urgentes e não urgentes\n",
        "plt.figure(figsize=(10, 6))\n",
        "sns.countplot(x='Viagem Urgente', data=viagens_servico, palette='viridis')\n",
        "plt.xlabel('Viagem Urgente')\n",
        "plt.ylabel('Contagem')\n",
        "plt.title('Distribuição das Viagens Urgentes e Não Urgentes')\n",
        "plt.show()"
      ]
    },
    {
      "cell_type": "code",
      "execution_count": 17,
      "metadata": {
        "id": "CZ39gduy0AVd"
      },
      "outputs": [],
      "source": [
        "# Contar a quantidade de viagens para cada cargo com urgência 'sim'\n",
        "top_cargos_urgentes = viagens_urgentes['Cargo'].value_counts().head(5)"
      ]
    },
    {
      "cell_type": "code",
      "execution_count": 18,
      "metadata": {
        "colab": {
          "base_uri": "https://localhost:8080/",
          "height": 698
        },
        "id": "KlcYYoCQ0Emf",
        "outputId": "df1631d2-f474-4405-8f19-9c0262029644"
      },
      "outputs": [
        {
          "name": "stderr",
          "output_type": "stream",
          "text": [
            "<ipython-input-18-b7eee36553bb>:3: FutureWarning: \n",
            "\n",
            "Passing `palette` without assigning `hue` is deprecated and will be removed in v0.14.0. Assign the `x` variable to `hue` and set `legend=False` for the same effect.\n",
            "\n",
            "  sns.barplot(x=top_cargos_urgentes.index, y=top_cargos_urgentes.values, palette='viridis')\n"
          ]
        },
        {
          "data": {
            "image/png": "[encoded data removed]",
            "text/plain": [
              "<Figure size 1000x600 with 1 Axes>"
            ]
          },
          "metadata": {},
          "output_type": "display_data"
        }
      ],
      "source": [
        "# Plotar o gráfico de barras Top 5 Cargos com Viagens Urgentes\n",
        "plt.figure(figsize=(10, 6))\n",
        "sns.barplot(x=top_cargos_urgentes.index, y=top_cargos_urgentes.values, palette='viridis')\n",
        "plt.xlabel('Cargos')\n",
        "plt.ylabel('Quantidade de Viagens Urgentes')\n",
        "plt.title('Top 5 Cargos com Viagens Urgentes')\n",
        "plt.xticks(rotation=45, ha='right')  # Ajuste para melhor visualização dos rótulos\n",
        "plt.tight_layout()\n",
        "plt.show()"
      ]
    },
    {
      "cell_type": "code",
      "execution_count": 21,
      "metadata": {
        "id": "dxt8OXP80mlV"
      },
      "outputs": [],
      "source": [
        "# Filtrar os principais destinos\n",
        "destinos_principais = ['Rio de Janeiro/RJ', 'São Paulo/SP', 'Porto Alegre/RS', 'Salvador/BA']\n",
        "viagens_destinos_principais = viagens_servico[viagens_servico['Destinos'].isin(destinos_principais)]\n"
      ]
    },
    {
      "cell_type": "code",
      "execution_count": 22,
      "metadata": {
        "colab": {
          "base_uri": "https://localhost:8080/"
        },
        "id": "HcXNgPwN0qke",
        "outputId": "1eac6bad-5855-4e62-e28c-72a459b5f213"
      },
      "outputs": [
        {
          "name": "stdout",
          "output_type": "stream",
          "text": [
            "Quantidade de viagens para os destinos principais:\n",
            "Destinos\n",
            "São Paulo/SP         4105\n",
            "Rio de Janeiro/RJ    2408\n",
            "Salvador/BA          1101\n",
            "Porto Alegre/RS       887\n",
            "Name: count, dtype: int64\n"
          ]
        }
      ],
      "source": [
        "# Contar a quantidade de viagens para cada destino\n",
        "contagem_destinos = viagens_destinos_principais['Destinos'].value_counts()\n",
        "\n",
        "# Exibir os resultados\n",
        "print(\"Quantidade de viagens para os destinos principais:\")\n",
        "print(contagem_destinos)"
      ]
    },
    {
      "cell_type": "code",
      "execution_count": 23,
      "metadata": {
        "colab": {
          "base_uri": "https://localhost:8080/",
          "height": 641
        },
        "id": "hh7GObDy0uOa",
        "outputId": "a13be552-a6bf-40dc-f685-0f6d61448116"
      },
      "outputs": [
        {
          "data": {
            "image/png": "[encoded data removed]",
            "text/plain": [
              "<Figure size 1000x600 with 1 Axes>"
            ]
          },
          "metadata": {},
          "output_type": "display_data"
        }
      ],
      "source": [
        "# Gráfico da distribuição de urgência nos 5 principais destinos\n",
        "plt.figure(figsize=(10, 6))\n",
        "sns.countplot(x='Destinos', hue='Viagem Urgente', data=viagens_destinos_principais, palette='viridis')\n",
        "plt.xlabel('Destinos')\n",
        "plt.ylabel('Contagem')\n",
        "plt.title('Distribuição de Urgência nos 5 Principais Destinos')\n",
        "plt.xticks(rotation=45)\n",
        "plt.legend(title='Viagem Urgente', labels=['Não Urgente', 'Urgente'])\n",
        "plt.show()"
      ]
    },
    {
      "cell_type": "markdown",
      "metadata": {
        "id": "0qZWDJpe8FO2"
      },
      "source": [
        "## Análise Preditiva\n",
        "\n",
        "---\n",
        "\n",
        "A análise preditiva utiliza modelos de machine learning para antecipar comportamentos futuros com base em dados históricos. Neste estudo, desenvolvemos um modelo Random Forest para classificar a urgência das viagens com base em variáveis relevantes. Avaliamos a acurácia do modelo para garantir sua eficácia na previsão dos padrões de viagem. Este passo é essencial para prever necessidades e tomar decisões estratégicas com antecedência.\n",
        "\n",
        "Neste conjunto de dados específico:\n",
        "\n",
        "•\tCodificação de Variáveis Categóricas: Utilizamos codificação de rótulos para transformar variáveis categóricas em numéricas, permitindo que os modelos de machine learning processem essas informações.\n",
        "\n",
        "•\tDivisão dos Dados: Separamos os dados em conjuntos de treinamento e teste para avaliar o desempenho do modelo em dados não vistos.\n",
        "\n",
        "\n",
        "•\tPadronização dos Dados: Aplicamos o StandardScaler para padronizar as features numéricas do conjunto de dados, garantindo que todas as variáveis tenham a mesma escala.\n",
        "\n",
        "•\tCriação e Treinamento do Modelo Random Forest: Desenvolvemos um modelo de classificação Random Forest e o treinamos com os dados de treinamento, ajustando-o para capturar os padrões nas viagens corporativas.\n",
        "\n",
        "\n",
        "•\tAvaliação do Modelo: Calculamos a acurácia do modelo e geramos um relatório de classificação para entender sua capacidade de prever com precisão a urgência das viagens corporativas.\n",
        "\n",
        "1. Objetivo da Previsão\n",
        "\n",
        "O objetivo principal é prever se uma viagem será urgente ou não antes que ela ocorra. Isso é valioso para diversas razões, como otimizar o planejamento de recursos, alocar orçamentos de forma mais eficaz e melhorar a gestão do tempo dos colaboradores.\n",
        "\n",
        "2. Características das Viagens\n",
        "\n",
        "Ao treinar o modelo com variáveis que descrevem as viagens (como destino, motivo, custo estimado, etc.), estamos fornecendo ao algoritmo informações essenciais para aprender padrões associados à urgência.\n",
        "\n",
        "3. Classificação Automática\n",
        "\n",
        "Uma vez treinado, o modelo pode classificar automaticamente novas viagens com base nas características que aprendeu durante o treinamento. Isso reduz a necessidade de intervenção manual para avaliar a urgência de cada viagem, economizando tempo e esforço.\n"
      ]
    },
    {
      "cell_type": "code",
      "execution_count": 35,
      "metadata": {
        "id": "VftKNBPX0yl1"
      },
      "outputs": [],
      "source": [
        "# Codificação de variáveis categóricas\n",
        "label_encoders = {}\n",
        "for column in viagens_servico.select_dtypes(include=['object']).columns:\n",
        "    le = LabelEncoder()\n",
        "    viagens_servico[column] = le.fit_transform(viagens_servico[column])\n",
        "    label_encoders[column] = le"
      ]
    },
    {
      "cell_type": "code",
      "execution_count": 36,
      "metadata": {
        "id": "ct-GVpYQ03pq"
      },
      "outputs": [],
      "source": [
        "# Selecionar dados do treino\n",
        "X = viagens_servico.drop('Viagem Urgente', axis=1)\n",
        "y = viagens_servico['Viagem Urgente']\n"
      ]
    },
    {
      "cell_type": "code",
      "execution_count": 44,
      "metadata": {
        "colab": {
          "base_uri": "https://localhost:8080/"
        },
        "id": "cMPzCg7V06H4",
        "outputId": "a3bef767-e3dd-4bff-c28c-ebc457efbe3b"
      },
      "outputs": [
        {
          "name": "stdout",
          "output_type": "stream",
          "text": [
            "Forma dos dados de treinamento: (111638, 22)\n",
            "Forma dos dados de teste: (47846, 22)\n"
          ]
        }
      ],
      "source": [
        "# Dividir os dados em conjuntos de treinamento e teste\n",
        "X_train, X_test, y_train, y_test = train_test_split(X, y, test_size=0.3, random_state=42)\n",
        "print(f\"Forma dos dados de treinamento: {X_train.shape}\")\n",
        "print(f\"Forma dos dados de teste: {X_test.shape}\")"
      ]
    },
    {
      "cell_type": "code",
      "execution_count": 38,
      "metadata": {
        "id": "eR82fNj209GQ"
      },
      "outputs": [],
      "source": [
        "# Padronizar os dados\n",
        "scaler = StandardScaler()\n",
        "X_train_scaled = scaler.fit_transform(X_train)\n",
        "X_test_scaled = scaler.transform(X_test)"
      ]
    },
    {
      "cell_type": "code",
      "execution_count": 39,
      "metadata": {
        "colab": {
          "base_uri": "https://localhost:8080/",
          "height": 74
        },
        "id": "Pg-ylx8O0_6g",
        "outputId": "14cfb501-d5b9-40df-89f0-03b4593c507f"
      },
      "outputs": [
        {
          "data": {
            "text/html": [
              "<style>#sk-container-id-1 {color: black;background-color: white;}#sk-container-id-1 pre{padding: 0;}#sk-container-id-1 div.sk-toggleable {background-color: white;}#sk-container-id-1 label.sk-toggleable__label {cursor: pointer;display: block;width: 100%;margin-bottom: 0;padding: 0.3em;box-sizing: border-box;text-align: center;}#sk-container-id-1 label.sk-toggleable__label-arrow:before {content: \"▸\";float: left;margin-right: 0.25em;color: #696969;}#sk-container-id-1 label.sk-toggleable__label-arrow:hover:before {color: black;}#sk-container-id-1 div.sk-estimator:hover label.sk-toggleable__label-arrow:before {color: black;}#sk-container-id-1 div.sk-toggleable__content {max-height: 0;max-width: 0;overflow: hidden;text-align: left;background-color: #f0f8ff;}#sk-container-id-1 div.sk-toggleable__content pre {margin: 0.2em;color: black;border-radius: 0.25em;background-color: #f0f8ff;}#sk-container-id-1 input.sk-toggleable__control:checked~div.sk-toggleable__content {max-height: 200px;max-width: 100%;overflow: auto;}#sk-container-id-1 input.sk-toggleable__control:checked~label.sk-toggleable__label-arrow:before {content: \"▾\";}#sk-container-id-1 div.sk-estimator input.sk-toggleable__control:checked~label.sk-toggleable__label {background-color: #d4ebff;}#sk-container-id-1 div.sk-label input.sk-toggleable__control:checked~label.sk-toggleable__label {background-color: #d4ebff;}#sk-container-id-1 input.sk-hidden--visually {border: 0;clip: rect(1px 1px 1px 1px);clip: rect(1px, 1px, 1px, 1px);height: 1px;margin: -1px;overflow: hidden;padding: 0;position: absolute;width: 1px;}#sk-container-id-1 div.sk-estimator {font-family: monospace;background-color: #f0f8ff;border: 1px dotted black;border-radius: 0.25em;box-sizing: border-box;margin-bottom: 0.5em;}#sk-container-id-1 div.sk-estimator:hover {background-color: #d4ebff;}#sk-container-id-1 div.sk-parallel-item::after {content: \"\";width: 100%;border-bottom: 1px solid gray;flex-grow: 1;}#sk-container-id-1 div.sk-label:hover label.sk-toggleable__label {background-color: #d4ebff;}#sk-container-id-1 div.sk-serial::before {content: \"\";position: absolute;border-left: 1px solid gray;box-sizing: border-box;top: 0;bottom: 0;left: 50%;z-index: 0;}#sk-container-id-1 div.sk-serial {display: flex;flex-direction: column;align-items: center;background-color: white;padding-right: 0.2em;padding-left: 0.2em;position: relative;}#sk-container-id-1 div.sk-item {position: relative;z-index: 1;}#sk-container-id-1 div.sk-parallel {display: flex;align-items: stretch;justify-content: center;background-color: white;position: relative;}#sk-container-id-1 div.sk-item::before, #sk-container-id-1 div.sk-parallel-item::before {content: \"\";position: absolute;border-left: 1px solid gray;box-sizing: border-box;top: 0;bottom: 0;left: 50%;z-index: -1;}#sk-container-id-1 div.sk-parallel-item {display: flex;flex-direction: column;z-index: 1;position: relative;background-color: white;}#sk-container-id-1 div.sk-parallel-item:first-child::after {align-self: flex-end;width: 50%;}#sk-container-id-1 div.sk-parallel-item:last-child::after {align-self: flex-start;width: 50%;}#sk-container-id-1 div.sk-parallel-item:only-child::after {width: 0;}#sk-container-id-1 div.sk-dashed-wrapped {border: 1px dashed gray;margin: 0 0.4em 0.5em 0.4em;box-sizing: border-box;padding-bottom: 0.4em;background-color: white;}#sk-container-id-1 div.sk-label label {font-family: monospace;font-weight: bold;display: inline-block;line-height: 1.2em;}#sk-container-id-1 div.sk-label-container {text-align: center;}#sk-container-id-1 div.sk-container {/* jupyter's `normalize.less` sets `[hidden] { display: none; }` but bootstrap.min.css set `[hidden] { display: none !important; }` so we also need the `!important` here to be able to override the default hidden behavior on the sphinx rendered scikit-learn.org. See: https://github.com/scikit-learn/scikit-learn/issues/21755 */display: inline-block !important;position: relative;}#sk-container-id-1 div.sk-text-repr-fallback {display: none;}</style><div id=\"sk-container-id-1\" class=\"sk-top-container\"><div class=\"sk-text-repr-fallback\"><pre>RandomForestClassifier(random_state=42)</pre><b>In a Jupyter environment, please rerun this cell to show the HTML representation or trust the notebook. <br />On GitHub, the HTML representation is unable to render, please try loading this page with nbviewer.org.</b></div><div class=\"sk-container\" hidden><div class=\"sk-item\"><div class=\"sk-estimator sk-toggleable\"><input class=\"sk-toggleable__control sk-hidden--visually\" id=\"sk-estimator-id-1\" type=\"checkbox\" checked><label for=\"sk-estimator-id-1\" class=\"sk-toggleable__label sk-toggleable__label-arrow\">RandomForestClassifier</label><div class=\"sk-toggleable__content\"><pre>RandomForestClassifier(random_state=42)</pre></div></div></div></div></div>"
            ],
            "text/plain": [
              "RandomForestClassifier(random_state=42)"
            ]
          },
          "execution_count": 39,
          "metadata": {},
          "output_type": "execute_result"
        }
      ],
      "source": [
        "# Criar o modelo Random Forest\n",
        "rf_model = RandomForestClassifier(n_estimators=100, random_state=42)\n",
        "rf_model.fit(X_train_scaled, y_train)"
      ]
    },
    {
      "cell_type": "code",
      "execution_count": 40,
      "metadata": {
        "colab": {
          "base_uri": "https://localhost:8080/"
        },
        "id": "q3e46FtU1DGZ",
        "outputId": "f0c215ba-d57e-4cd4-c791-f56b33b18ded"
      },
      "outputs": [
        {
          "name": "stdout",
          "output_type": "stream",
          "text": [
            "Acurácia Random Forest: 1.00\n"
          ]
        }
      ],
      "source": [
        "# Previsão e avaliação do modelo Random Forest\n",
        "rf_pred = rf_model.predict(X_test_scaled)\n",
        "rf_accuracy = accuracy_score(y_test, rf_pred)\n",
        "print(f\"Acurácia Random Forest: {rf_accuracy:.2f}\")\n"
      ]
    },
    {
      "cell_type": "code",
      "execution_count": 41,
      "metadata": {
        "colab": {
          "base_uri": "https://localhost:8080/"
        },
        "id": "_9NLoZO81FNC",
        "outputId": "44ebcf6a-6cb8-4df6-eaf2-569509b56e94"
      },
      "outputs": [
        {
          "name": "stdout",
          "output_type": "stream",
          "text": [
            "Relatório de Classificação (Random Forest):\n",
            "              precision    recall  f1-score   support\n",
            "\n",
            "           0       1.00      1.00      1.00     38408\n",
            "           1       1.00      1.00      1.00      9438\n",
            "\n",
            "    accuracy                           1.00     47846\n",
            "   macro avg       1.00      1.00      1.00     47846\n",
            "weighted avg       1.00      1.00      1.00     47846\n",
            "\n"
          ]
        }
      ],
      "source": [
        "print(\"Relatório de Classificação (Random Forest):\")\n",
        "print(classification_report(y_test, rf_pred))"
      ]
    },
    {
      "cell_type": "code",
      "execution_count": 42,
      "metadata": {
        "colab": {
          "base_uri": "https://localhost:8080/",
          "height": 564
        },
        "id": "iSLLOZk01IIb",
        "outputId": "50519aa2-35c6-4ca0-bd46-85168292183a"
      },
      "outputs": [
        {
          "data": {
            "image/png": "[encoded data removed]",
            "text/plain": [
              "<Figure size 800x600 with 2 Axes>"
            ]
          },
          "metadata": {},
          "output_type": "display_data"
        }
      ],
      "source": [
        "# Plotar Matriz de confusão\n",
        "conf_matrix = confusion_matrix(y_test, rf_pred)\n",
        "plt.figure(figsize=(8, 6))\n",
        "sns.heatmap(conf_matrix, annot=True, fmt='d', cmap='Blues')\n",
        "plt.xlabel('Previsão')\n",
        "plt.ylabel('Verdadeiro')\n",
        "plt.title('Matriz de Confusão (Random Forest)')\n",
        "plt.show()"
      ]
    },
    {
      "cell_type": "code",
      "execution_count": 43,
      "metadata": {
        "colab": {
          "base_uri": "https://localhost:8080/"
        },
        "id": "Rshu7JWc1KgV",
        "outputId": "e4bd6183-e881-4fef-abf0-177bd3f6b6e1"
      },
      "outputs": [
        {
          "name": "stdout",
          "output_type": "stream",
          "text": [
            "Modelo salvo como random_forest_model.pkl\n"
          ]
        }
      ],
      "source": [
        "# Salvar o modelo Random Forest treinado\n",
        "jl.dump(rf_model, 'random_forest_model.pkl')\n",
        "print(\"Modelo salvo como random_forest_model.pkl\")"
      ]
    },
    {
      "cell_type": "markdown",
      "metadata": {
        "id": "eZPpdMcx8L0W"
      },
      "source": [
        "## Análise Prescritiva\n",
        "\n",
        "---\n",
        "\n",
        "A análise prescritiva converte insights em ações práticas e estratégicas. Com base nos resultados das análises anteriores de nosso dataset de viagens corporativas, recomendamos medidas para otimizar a gestão de viagens urgentes e melhorar a eficiência operacional da organização:\n",
        "\n",
        "•\tRevisão de Políticas de Viagem: Estabelecer critérios claros para identificação e tratamento de viagens urgentes, incluindo definição de limites de gastos e procedimentos de aprovação específicos.\n",
        "\n",
        "•\tImplementação de Tecnologias de Monitoramento: Adotar sistemas de monitoramento em tempo real para identificar viagens urgentes potenciais. Integração de alertas automáticos para gestores sobre viagens que requerem atenção imediata.\n",
        "\n",
        "•\tIncentivo à Flexibilidade: Promover o uso de ferramentas de colaboração online e videoconferências como alternativas viáveis para reuniões presenciais, reduzindo a necessidade de deslocamentos.\n",
        "\n",
        "•\tRelatórios e Transparência: Desenvolver relatórios periódicos detalhando o número de viagens urgentes, seus destinos e os custos associados. Implementar painéis de controle para uma visualização transparente das despesas relacionadas a viagens urgentes.\n",
        "\n"
      ]
    }
  ],
  "metadata": {
    "colab": {
      "provenance": []
    },
    "kernelspec": {
      "display_name": "Python 3",
      "name": "python3"
    },
    "language_info": {
      "name": "python"
    }
  },
  "nbformat": 4,
  "nbformat_minor": 0
}
